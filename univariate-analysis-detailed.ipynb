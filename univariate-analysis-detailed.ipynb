{
 "cells": [
  {
   "cell_type": "markdown",
   "metadata": {},
   "source": [
    "##### In this notebook, I've tried to go over each attribute seperaly. The goal is to understand each attribute and the information it holds. "
   ]
  },
  {
   "cell_type": "code",
   "execution_count": 1,
   "metadata": {},
   "outputs": [],
   "source": [
    "import pandas as pd\n",
    "import matplotlib.pyplot as plt \n",
    "import numpy as np\n",
    "import seaborn as sns\n",
    "import category_encoders as ce\n",
    "%matplotlib inline"
   ]
  },
  {
   "cell_type": "code",
   "execution_count": 2,
   "metadata": {},
   "outputs": [
    {
     "name": "stderr",
     "output_type": "stream",
     "text": [
      "C:\\Users\\elkha\\anaconda3\\lib\\site-packages\\IPython\\core\\interactiveshell.py:3063: DtypeWarning: Columns (0,38,40) have mixed types.Specify dtype option on import or set low_memory=False.\n",
      "  interactivity=interactivity, compiler=compiler, result=result)\n"
     ]
    }
   ],
   "source": [
    "df = pd.read_csv(\"C:/Users/elkha/Desktop/clinvar_conflicting.csv\")"
   ]
  },
  {
   "cell_type": "markdown",
   "metadata": {},
   "source": [
    "##### dropping attributes/features with >80% of missing values. "
   ]
  },
  {
   "cell_type": "code",
   "execution_count": 3,
   "metadata": {},
   "outputs": [],
   "source": [
    "df=df.drop(['MOTIF_SCORE_CHANGE',    \n",
    "            'HIGH_INF_POS',          \n",
    "            'MOTIF_POS',             \n",
    "            'MOTIF_NAME',            \n",
    "            'DISTANCE',              \n",
    "            'SSR',                   \n",
    "            'CLNSIGINCL',            \n",
    "            'CLNDNINCL',            \n",
    "            'CLNDISDBINCL',\n",
    "           'INTRON'],axis=1)"
   ]
  },
  {
   "cell_type": "code",
   "execution_count": 4,
   "metadata": {},
   "outputs": [
    {
     "name": "stdout",
     "output_type": "stream",
     "text": [
      "<class 'pandas.core.frame.DataFrame'>\n",
      "RangeIndex: 65188 entries, 0 to 65187\n",
      "Data columns (total 36 columns):\n",
      " #   Column            Non-Null Count  Dtype  \n",
      "---  ------            --------------  -----  \n",
      " 0   CHROM             65188 non-null  object \n",
      " 1   POS               65188 non-null  int64  \n",
      " 2   REF               65188 non-null  object \n",
      " 3   ALT               65188 non-null  object \n",
      " 4   AF_ESP            65188 non-null  float64\n",
      " 5   AF_EXAC           65188 non-null  float64\n",
      " 6   AF_TGP            65188 non-null  float64\n",
      " 7   CLNDISDB          65188 non-null  object \n",
      " 8   CLNDN             65188 non-null  object \n",
      " 9   CLNHGVS           65188 non-null  object \n",
      " 10  CLNVC             65188 non-null  object \n",
      " 11  CLNVI             27659 non-null  object \n",
      " 12  MC                64342 non-null  object \n",
      " 13  ORIGIN            65188 non-null  int64  \n",
      " 14  CLASS             65188 non-null  int64  \n",
      " 15  Allele            65188 non-null  object \n",
      " 16  Consequence       65188 non-null  object \n",
      " 17  IMPACT            65188 non-null  object \n",
      " 18  SYMBOL            65172 non-null  object \n",
      " 19  Feature_type      65174 non-null  object \n",
      " 20  Feature           65174 non-null  object \n",
      " 21  BIOTYPE           65172 non-null  object \n",
      " 22  EXON              56295 non-null  object \n",
      " 23  cDNA_position     56304 non-null  object \n",
      " 24  CDS_position      55233 non-null  object \n",
      " 25  Protein_position  55233 non-null  object \n",
      " 26  Amino_acids       55184 non-null  object \n",
      " 27  Codons            55184 non-null  object \n",
      " 28  STRAND            65174 non-null  float64\n",
      " 29  BAM_EDIT          31969 non-null  object \n",
      " 30  SIFT              24836 non-null  object \n",
      " 31  PolyPhen          24796 non-null  object \n",
      " 32  LoFtool           60975 non-null  float64\n",
      " 33  CADD_PHRED        64096 non-null  float64\n",
      " 34  CADD_RAW          64096 non-null  float64\n",
      " 35  BLOSUM62          25593 non-null  float64\n",
      "dtypes: float64(8), int64(3), object(25)\n",
      "memory usage: 17.9+ MB\n"
     ]
    }
   ],
   "source": [
    "df.info()"
   ]
  },
  {
   "cell_type": "markdown",
   "metadata": {},
   "source": [
    "### CHROM\n",
    "##### Chromosome the variant is located on. \n"
   ]
  },
  {
   "cell_type": "code",
   "execution_count": 60,
   "metadata": {},
   "outputs": [
    {
     "data": {
      "image/png": "[encoded data removed]",
      "text/plain": [
       "<Figure size 1296x360 with 1 Axes>"
      ]
     },
     "metadata": {
      "needs_background": "light"
     },
     "output_type": "display_data"
    }
   ],
   "source": [
    "f3, ax3 = plt.subplots(figsize=(18,5))\n",
    "ax3 = sns.countplot(x=\"CHROM\", data=df, palette='Greens_d')\n",
    "ax3.grid(False)\n",
    "\n",
    "for p in ax3.patches:\n",
    "    ax3.annotate(int(p.get_height()), \n",
    "                   ( p.get_x() + p.get_width() / 2, p.get_height()), \n",
    "                   ha = 'center', va = 'center', \n",
    "                   xytext = (0, 9), \n",
    "                   textcoords = 'offset points',\n",
    "                    fontsize=7)\n",
    "sns.despine()\n",
    "sns.despine(left=True)\n",
    "ax3.set(yticks=[])\n",
    "\n",
    "my_text=ax3.set_title('Value counts for CHROM',fontsize=10, pad=15)"
   ]
  },
  {
   "cell_type": "markdown",
   "metadata": {},
   "source": [
    "##### Some values are redundant. 11 and 12 are examples. "
   ]
  },
  {
   "cell_type": "code",
   "execution_count": 10,
   "metadata": {},
   "outputs": [
    {
     "data": {
      "text/plain": [
       "array([2, 17, '11', '1', '5', 16, 19, '7', '9', 13, 12, '10', '6', 'X',\n",
       "       '8', 14, '3', 15, '4', 22, 3, 18, 21, 20, '2', '17', '19', '16',\n",
       "       '12', '14', '15', '13', 11, '21', '18', '22', '20', 'MT'],\n",
       "      dtype=object)"
      ]
     },
     "execution_count": 10,
     "metadata": {},
     "output_type": "execute_result"
    }
   ],
   "source": [
    "df['CHROM'].value_counts().index.values"
   ]
  },
  {
   "cell_type": "markdown",
   "metadata": {},
   "source": [
    "##### The code below converts all the chrom values to strings, to get rid of redundancies in the plot. "
   ]
  },
  {
   "cell_type": "code",
   "execution_count": 11,
   "metadata": {},
   "outputs": [
    {
     "data": {
      "text/plain": [
       "array(['2', '17', '11', '1', '16', '19', '5', '7', '12', '9', '13', '3',\n",
       "       '10', '6', '14', 'X', '8', '15', '4', '22', '18', '21', '20', 'MT'],\n",
       "      dtype=object)"
      ]
     },
     "execution_count": 11,
     "metadata": {},
     "output_type": "execute_result"
    }
   ],
   "source": [
    "a=df['CHROM'].astype('str')\n",
    "df['CHROM']=a.values\n",
    "df['CHROM'].value_counts().index.values"
   ]
  },
  {
   "cell_type": "markdown",
   "metadata": {},
   "source": [
    "##### The new version of the plot:"
   ]
  },
  {
   "cell_type": "code",
   "execution_count": 14,
   "metadata": {},
   "outputs": [
    {
     "data": {
      "image/png": "[encoded data removed]",
      "text/plain": [
       "<Figure size 1008x288 with 1 Axes>"
      ]
     },
     "metadata": {
      "needs_background": "light"
     },
     "output_type": "display_data"
    }
   ],
   "source": [
    "f3, ax3 = plt.subplots(figsize=(14,4))\n",
    "ax3 = sns.countplot(x=\"CHROM\", data=df, palette='Greens_d',)\n",
    "\n",
    "ax3.grid(False)\n",
    "\n",
    "for p in ax3.patches:\n",
    "    ax3.annotate(int(p.get_height()), \n",
    "                   ( p.get_x() + p.get_width() / 2, p.get_height()), \n",
    "                   ha = 'center', va = 'center', \n",
    "                   xytext = (0, 9), \n",
    "                   textcoords = 'offset points',\n",
    "                    fontsize=7)\n",
    "sns.despine()\n",
    "sns.despine(left=True)\n",
    "ax3.set(yticks=[])\n",
    "\n",
    "my_text=ax3.set_title('Value counts for CHROM',fontsize=10, pad=15)"
   ]
  },
  {
   "cell_type": "markdown",
   "metadata": {},
   "source": [
    "### POS\n",
    "##### Position on the chromosome the variant is located on.\n"
   ]
  },
  {
   "cell_type": "code",
   "execution_count": 5,
   "metadata": {},
   "outputs": [
    {
     "data": {
      "text/plain": [
       "89876827     11\n",
       "179578108     9\n",
       "73613031      8\n",
       "92944314      7\n",
       "103629803     7\n",
       "             ..\n",
       "41557033      1\n",
       "49419304      1\n",
       "2718696       1\n",
       "144995364     1\n",
       "792579        1\n",
       "Name: POS, Length: 63115, dtype: int64"
      ]
     },
     "execution_count": 5,
     "metadata": {},
     "output_type": "execute_result"
    }
   ],
   "source": [
    "df[\"POS\"].value_counts()"
   ]
  },
  {
   "cell_type": "code",
   "execution_count": 6,
   "metadata": {},
   "outputs": [
    {
     "data": {
      "text/html": [
       "<div>\n",
       "<style scoped>\n",
       "    .dataframe tbody tr th:only-of-type {\n",
       "        vertical-align: middle;\n",
       "    }\n",
       "\n",
       "    .dataframe tbody tr th {\n",
       "        vertical-align: top;\n",
       "    }\n",
       "\n",
       "    .dataframe thead th {\n",
       "        text-align: right;\n",
       "    }\n",
       "</style>\n",
       "<table border=\"1\" class=\"dataframe\">\n",
       "  <thead>\n",
       "    <tr style=\"text-align: right;\">\n",
       "      <th></th>\n",
       "      <th>example</th>\n",
       "      <th>dtype</th>\n",
       "      <th>missing values (%)</th>\n",
       "      <th>unique values</th>\n",
       "      <th>mean</th>\n",
       "      <th>std</th>\n",
       "      <th>min</th>\n",
       "      <th>25%</th>\n",
       "      <th>50%</th>\n",
       "      <th>75%</th>\n",
       "      <th>max</th>\n",
       "    </tr>\n",
       "  </thead>\n",
       "  <tbody>\n",
       "    <tr>\n",
       "      <th>POS</th>\n",
       "      <td>1168180</td>\n",
       "      <td>int64</td>\n",
       "      <td>0.0</td>\n",
       "      <td>63115</td>\n",
       "      <td>7.757594e+07</td>\n",
       "      <td>5.974051e+07</td>\n",
       "      <td>961.0</td>\n",
       "      <td>32541793.0</td>\n",
       "      <td>57970213.0</td>\n",
       "      <td>1.127454e+08</td>\n",
       "      <td>247607973.0</td>\n",
       "    </tr>\n",
       "  </tbody>\n",
       "</table>\n",
       "</div>"
      ],
      "text/plain": [
       "     example  dtype  missing values (%)  unique values          mean  \\\n",
       "POS  1168180  int64                 0.0          63115  7.757594e+07   \n",
       "\n",
       "              std    min         25%         50%           75%          max  \n",
       "POS  5.974051e+07  961.0  32541793.0  57970213.0  1.127454e+08  247607973.0  "
      ]
     },
     "execution_count": 6,
     "metadata": {},
     "output_type": "execute_result"
    }
   ],
   "source": [
    "a=df[\"POS\"].describe()\n",
    "d=pd.DataFrame(a)\n",
    "d=d.T\n",
    "d.insert(0, \"example\", df[\"POS\"].unique()[0])\n",
    "d.insert(1,\"dtype\",(df[\"POS\"].dtypes))\n",
    "d.insert(2,'missing values (%)',df[\"POS\"].isnull().sum()*100/65186)\n",
    "d.insert(3,'unique values', len(df[\"POS\"].unique()))\n",
    "d.drop(['count'],axis=1, inplace=True)\n",
    "d"
   ]
  },
  {
   "cell_type": "code",
   "execution_count": 139,
   "metadata": {},
   "outputs": [
    {
     "name": "stderr",
     "output_type": "stream",
     "text": [
      "C:\\Users\\elkha\\anaconda3\\lib\\site-packages\\seaborn\\distributions.py:561: MatplotlibDeprecationWarning: Saw kwargs ['ec', 'edgecolor'] which are all aliases for 'edgecolor'.  Kept value from 'edgecolor'.  Passing multiple aliases for the same property will raise a TypeError in 3.3.\n",
      "  **artist_kws,\n"
     ]
    },
    {
     "data": {
      "image/png": "[encoded data removed]",
      "text/plain": [
       "<Figure size 1440x720 with 1 Axes>"
      ]
     },
     "metadata": {
      "needs_background": "light"
     },
     "output_type": "display_data"
    }
   ],
   "source": [
    "colors = [\"#C0CEB2\",\"#253628\"]\n",
    "customPalette=sns.set_palette(sns.color_palette(colors))\n",
    "\n",
    "f4, ax4 = plt.subplots(figsize=(20,10))\n",
    "ax4 = sns.histplot(df, x='POS', bins=50, palette=customPalette,lw=0, hue='CLASS', ec='#253628',multiple=\"stack\")\n",
    "\n",
    "ax4.grid(False)\n",
    "\n",
    "\n",
    "for i in range (int(len(ax4.patches)/2)): \n",
    "    p1= ax4.patches[i]\n",
    "    p2= ax4.patches[i+50]\n",
    "    \n",
    "    height= int(p1.get_height())+int(p2.get_height())\n",
    "    ax4.annotate(int(p2.get_height()), ( p1.get_x() + p1.get_width() / 2, height), ha = 'center', va = 'center', xytext = (0, 4), textcoords = 'offset points',fontsize=7)\n",
    "    ax4.annotate(int(p1.get_height()), \n",
    "                   ( p1.get_x() + p1.get_width() / 2, p1.get_height()), \n",
    "                   ha = 'center', va = 'center', \n",
    "                   xytext = (0, 4), \n",
    "                   textcoords = 'offset points',\n",
    "                    fontsize=7)\n",
    "    \n",
    "\n",
    "sns.despine()\n",
    "sns.despine(left=True)\n",
    "ax4.set(yticks=[])\n",
    "\n",
    "my_text=ax4.set_title('Histogram for POS',fontsize=10, pad=15)"
   ]
  },
  {
   "cell_type": "code",
   "execution_count": null,
   "metadata": {},
   "outputs": [],
   "source": []
  }
 ],
 "metadata": {
  "kernelspec": {
   "display_name": "Python 3",
   "language": "python",
   "name": "python3"
  },
  "language_info": {
   "codemirror_mode": {
    "name": "ipython",
    "version": 3
   },
   "file_extension": ".py",
   "mimetype": "text/x-python",
   "name": "python",
   "nbconvert_exporter": "python",
   "pygments_lexer": "ipython3",
   "version": "3.7.6"
  }
 },
 "nbformat": 4,
 "nbformat_minor": 4
}
