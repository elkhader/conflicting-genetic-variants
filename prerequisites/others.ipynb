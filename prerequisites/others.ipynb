{
 "cells": [
  {
   "cell_type": "markdown",
   "metadata": {},
   "source": [
    "#### data leakage"
   ]
  },
  {
   "cell_type": "markdown",
   "metadata": {},
   "source": [
    "### Pipelines"
   ]
  },
  {
   "cell_type": "markdown",
   "metadata": {},
   "source": [
    "- a means of automating machine learning workflow.\n",
    "- enables data to be transformed and correlated into a model. \n",
    "- splits up the workflow into independent, reusable parts that can be pipelined together to create models. \n",
    "- cuts out redundant work.\n",
    "- based on the idea: splitting the software into basic parts enables building more powerful software over time. \n",
    "#### machine learning workflow: \n",
    "    - ingestion. \n",
    "    - cleaning. \n",
    "    - preprocessing. \n",
    "    - modeling. \n",
    "    - deployment. <br>\n",
    "   running these tasks using one script rises problems like: **Volume, Variety, and Versioning**. \n",
    "   \n",
    " #### benefits of pipelines: \n",
    "    - **Runtime optimization:**<br>pipelines that get heavily used can be emphasized on during deployment. This way, the right algorithms will run seamlessly and compute time will be reduced. \n",
    "    - **Famework agnositicism**:<br> since a pipeline uses API endpoints, different parts can be written in different languages and frameworks. Also allows pieces of models to be reused across the stack. \n",
    "    - **Broader applicability:**<br>\n",
    "    pieces of a model can be used for other different models. Parts can have a broad applicability.\n",
    "    \n",
    "##### reference: https://algorithmia.com/blog/ml-pipeline"
   ]
  },
  {
   "cell_type": "code",
   "execution_count": null,
   "metadata": {},
   "outputs": [],
   "source": []
  },
  {
   "cell_type": "code",
   "execution_count": null,
   "metadata": {},
   "outputs": [],
   "source": []
  }
 ],
 "metadata": {
  "kernelspec": {
   "display_name": "Python 3",
   "language": "python",
   "name": "python3"
  },
  "language_info": {
   "codemirror_mode": {
    "name": "ipython",
    "version": 3
   },
   "file_extension": ".py",
   "mimetype": "text/x-python",
   "name": "python",
   "nbconvert_exporter": "python",
   "pygments_lexer": "ipython3",
   "version": "3.7.6"
  }
 },
 "nbformat": 4,
 "nbformat_minor": 4
}
